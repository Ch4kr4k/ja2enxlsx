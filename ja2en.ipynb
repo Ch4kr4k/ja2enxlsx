{
 "cells": [
  {
   "cell_type": "markdown",
   "id": "0a1e0cba-bb36-4bd5-b99c-8d0cbf5f05f0",
   "metadata": {},
   "source": [
    "## jupyter notebook of japanese to English xlsx converter for single sheet without psswd\n",
    "E Chakrak <br>\n",
    "Tm no.896 <br>\n",
    "[github_link](https://www.github.com/Ch4kr4k/ja2enxlsx)"
   ]
  },
  {
   "cell_type": "markdown",
   "id": "56a373b3-053d-4a28-8958-9ce0da7606f1",
   "metadata": {},
   "source": [
    "#### rough proposal of system design\n",
    "![sys](systemdesign.png)"
   ]
  },
  {
   "cell_type": "markdown",
   "id": "2d4859b8-f61c-4ee8-91ae-dacf3e9fa3f4",
   "metadata": {},
   "source": [
    "#### working Concept of japanese to English xlsx converter for single sheet without psswd"
   ]
  },
  {
   "cell_type": "code",
   "execution_count": 11,
   "id": "90f65353-f061-4ae2-b481-5f5ae1bc9a17",
   "metadata": {},
   "outputs": [],
   "source": [
    "# importing libraries\n",
    "from googletrans import Translator, constants\n",
    "from pprint import pprint\n",
    "import pandas as pd"
   ]
  },
  {
   "cell_type": "code",
   "execution_count": 2,
   "id": "acf20011-65a9-4457-bc0e-0889182aeb0e",
   "metadata": {},
   "outputs": [],
   "source": [
    "_2ja = Translator() "
   ]
  },
  {
   "cell_type": "code",
   "execution_count": 3,
   "id": "970fb874-b21c-4f0b-b8a0-c0d243c58577",
   "metadata": {},
   "outputs": [],
   "source": [
    "df = pd.read_excel(\"jap test.xlsx\")"
   ]
  },
  {
   "cell_type": "markdown",
   "id": "887a13ee-b5f6-4ca8-82c8-ef30a45c102e",
   "metadata": {},
   "source": [
    "##### testing mix japanese with english and numeric"
   ]
  },
  {
   "cell_type": "code",
   "execution_count": 4,
   "id": "43207c75-ad14-4bc1-bcaf-ba0c5c01dceb",
   "metadata": {},
   "outputs": [
    {
     "name": "stdout",
     "output_type": "stream",
     "text": [
      "  送信側ECUのData Length Code（データ長）を表す。CANフレームの場合DLCは0, 1, 2, 3, 4, 5, 6, 7, 8Byte、 CAN FDフレームの場合DLCは0, 1, 2, 3, 4, 5, 6, 7, 8, 12, 16, 20, 24, 32, 48, 64Byteとなる。\\t\\t\\t\\t\\t\\t\\t\\t\\t\\t\\t\\t\\t\\t\\t\\t\\t\\t\\t\\t  \\\n",
      "0  送信側ECUのData Length Code（データ長）を表す。CANフレームの場合DLC...                                                                                                                                                     \n",
      "\n",
      "  送信側ECUのData Length Code（データ長）を表す。CANフレームの場合DLCは0, 1, 2, 3, 4, 5, 6, 7, 8Byte、 CAN FDフレームの場合DLCは0, 1, 2, 3, 4, 5, 6, 7, 8, 12, 16, 20, 24, 32, 48, 64Byteとなる。  \n",
      "0  送信側ECUのData Length Code（データ長）を表す。CANフレームの場合DLC...                                                                                                            \n"
     ]
    }
   ],
   "source": [
    "print(df.head())"
   ]
  },
  {
   "cell_type": "code",
   "execution_count": 5,
   "id": "7489c894-fc7f-4380-bf1f-79d995bbd1dc",
   "metadata": {},
   "outputs": [],
   "source": [
    "tmp_text = _2ja.translate(df.iat[0,0], dest=\"en\", src=\"ja\")\n",
    "df.iat[0,0] = tmp_text.text"
   ]
  },
  {
   "cell_type": "code",
   "execution_count": 6,
   "id": "af387a6c-533b-4f55-8d0e-c53918b8ca07",
   "metadata": {},
   "outputs": [
    {
     "name": "stdout",
     "output_type": "stream",
     "text": [
      "Represents the Data Length Code (data length) of the transmitting ECU. DLC is 0, 1, 2, 3, 4, 5, 6, 7, 8 bytes for CAN frame, and 0, 1, 2, 3, 4, 5, 6, 7, 8, 12 for CAN FD frame , 16, 20, 24, 32, 48, 64 bytes.\n"
     ]
    }
   ],
   "source": [
    "print(tmp_text.text)"
   ]
  },
  {
   "cell_type": "code",
   "execution_count": 10,
   "id": "24b82207-cf73-4922-b7a7-7fc077bc0968",
   "metadata": {},
   "outputs": [
    {
     "name": "stdout",
     "output_type": "stream",
     "text": [
      "00\n",
      "01\n",
      "10\n",
      "11\n"
     ]
    }
   ],
   "source": [
    "for i in range(0,2):  # just visualizing the data\n",
    "    for j in range(0,2):\n",
    "        print(f\"{i}{j}\")"
   ]
  },
  {
   "cell_type": "markdown",
   "id": "f8648034-08dd-4023-8944-aa4435aa1f03",
   "metadata": {},
   "source": [
    "Reading the excel sheet that is in japanese"
   ]
  },
  {
   "cell_type": "code",
   "execution_count": 26,
   "id": "2cd401f3-01f3-4ef6-af1d-917c69eaa88c",
   "metadata": {},
   "outputs": [
    {
     "data": {
      "text/html": [
       "<div>\n",
       "<style scoped>\n",
       "    .dataframe tbody tr th:only-of-type {\n",
       "        vertical-align: middle;\n",
       "    }\n",
       "\n",
       "    .dataframe tbody tr th {\n",
       "        vertical-align: top;\n",
       "    }\n",
       "\n",
       "    .dataframe thead th {\n",
       "        text-align: right;\n",
       "    }\n",
       "</style>\n",
       "<table border=\"1\" class=\"dataframe\">\n",
       "  <thead>\n",
       "    <tr style=\"text-align: right;\">\n",
       "      <th></th>\n",
       "      <th>名前はなんですか</th>\n",
       "      <th>私の名前は</th>\n",
       "      <th>夢を諦めて死んでください</th>\n",
       "    </tr>\n",
       "  </thead>\n",
       "  <tbody>\n",
       "    <tr>\n",
       "      <th>0</th>\n",
       "      <td>あきらめてはいけない</td>\n",
       "      <td>天気の子</td>\n",
       "      <td>すずめ</td>\n",
       "    </tr>\n",
       "    <tr>\n",
       "      <th>1</th>\n",
       "      <td>君の膵臓を食べたい</td>\n",
       "      <td>さみしい</td>\n",
       "      <td>悲しい</td>\n",
       "    </tr>\n",
       "    <tr>\n",
       "      <th>2</th>\n",
       "      <td>水</td>\n",
       "      <td>山</td>\n",
       "      <td>美しい</td>\n",
       "    </tr>\n",
       "    <tr>\n",
       "      <th>3</th>\n",
       "      <td>女神</td>\n",
       "      <td>夢</td>\n",
       "      <td>愛</td>\n",
       "    </tr>\n",
       "    <tr>\n",
       "      <th>4</th>\n",
       "      <td>心臓</td>\n",
       "      <td>魂</td>\n",
       "      <td>NaN</td>\n",
       "    </tr>\n",
       "  </tbody>\n",
       "</table>\n",
       "</div>"
      ],
      "text/plain": [
       "     名前はなんですか 私の名前は 夢を諦めて死んでください\n",
       "0  あきらめてはいけない  天気の子          すずめ\n",
       "1   君の膵臓を食べたい  さみしい          悲しい\n",
       "2           水     山          美しい\n",
       "3          女神     夢            愛\n",
       "4          心臓     魂          NaN"
      ]
     },
     "execution_count": 26,
     "metadata": {},
     "output_type": "execute_result"
    }
   ],
   "source": [
    "df = pd.read_excel(\"jap_test2.xlsx\", skiprows=0)\n",
    "df.head()"
   ]
  },
  {
   "cell_type": "markdown",
   "id": "9d20d69c-657a-4e1e-8b97-399501348ff0",
   "metadata": {},
   "source": [
    "##### table format\n",
    "df[cols,rows]\n",
    "\n",
    "|head|head|\n",
    "|--|--|\n",
    "|00|01|\n",
    "|10|11|"
   ]
  },
  {
   "cell_type": "code",
   "execution_count": 25,
   "id": "270d5f6c-b939-4239-b95c-9c4194351100",
   "metadata": {},
   "outputs": [
    {
     "name": "stdout",
     "output_type": "stream",
     "text": [
      "あきらめてはいけない\n",
      "天気の子\n",
      "すずめ\n",
      "君の膵臓を食べたい\n",
      "さみしい\n",
      "悲しい\n",
      "水\n",
      "山\n",
      "美しい\n",
      "女神\n",
      "夢\n",
      "愛\n",
      "心臓\n",
      "魂\n",
      "nan\n"
     ]
    }
   ],
   "source": [
    "for cols in range (0,5):  # visualization\n",
    "    for rows in range (0,3):\n",
    "        print(df.iat[cols, rows])"
   ]
  },
  {
   "cell_type": "markdown",
   "id": "433ddf89-b4b7-4b0a-aeb6-f6e638c6cb3e",
   "metadata": {},
   "source": [
    "here the below range of rows and cols can be dynamic. by changing it to below\n",
    "```python\n",
    "row_range = int(input(\"row range\"))\n",
    "col_range = int(input(\"col range\"))\n",
    "\n",
    "```"
   ]
  },
  {
   "cell_type": "code",
   "execution_count": 41,
   "id": "bcc9f54d-2b0c-46df-9229-24ca8119c01f",
   "metadata": {},
   "outputs": [],
   "source": [
    "### function to convert ja to en and save to new excel\n",
    "def conv2en(df):\n",
    "    for cols in range (0,5):\n",
    "        for rows in range (0,3):\n",
    "            tmp_text = _2ja.translate(df.iat[cols,rows], dest=\"en\", src=\"ja\")\n",
    "            df.iat[cols,rows] = tmp_text.text\n",
    "    df.to_excel(\"test2.xlsx\", index=False)"
   ]
  },
  {
   "cell_type": "code",
   "execution_count": 42,
   "id": "e7adfdfc-1d2e-4505-a57a-bdb4c5912c36",
   "metadata": {},
   "outputs": [],
   "source": [
    "conv2en(df)"
   ]
  },
  {
   "cell_type": "code",
   "execution_count": 43,
   "id": "20e71d91-928d-4a0e-b91a-1091bcb1a547",
   "metadata": {},
   "outputs": [
    {
     "data": {
      "text/html": [
       "<div>\n",
       "<style scoped>\n",
       "    .dataframe tbody tr th:only-of-type {\n",
       "        vertical-align: middle;\n",
       "    }\n",
       "\n",
       "    .dataframe tbody tr th {\n",
       "        vertical-align: top;\n",
       "    }\n",
       "\n",
       "    .dataframe thead th {\n",
       "        text-align: right;\n",
       "    }\n",
       "</style>\n",
       "<table border=\"1\" class=\"dataframe\">\n",
       "  <thead>\n",
       "    <tr style=\"text-align: right;\">\n",
       "      <th></th>\n",
       "      <th>名前はなんですか</th>\n",
       "      <th>私の名前は</th>\n",
       "      <th>夢を諦めて死んでください</th>\n",
       "    </tr>\n",
       "  </thead>\n",
       "  <tbody>\n",
       "    <tr>\n",
       "      <th>0</th>\n",
       "      <td>don't give up</td>\n",
       "      <td>child of the weather</td>\n",
       "      <td>Sparrow</td>\n",
       "    </tr>\n",
       "    <tr>\n",
       "      <th>1</th>\n",
       "      <td>i want to eat your pancreas</td>\n",
       "      <td>lonely</td>\n",
       "      <td>sad</td>\n",
       "    </tr>\n",
       "    <tr>\n",
       "      <th>2</th>\n",
       "      <td>water</td>\n",
       "      <td>Mountain</td>\n",
       "      <td>beautiful</td>\n",
       "    </tr>\n",
       "    <tr>\n",
       "      <th>3</th>\n",
       "      <td>Goddess</td>\n",
       "      <td>dreams</td>\n",
       "      <td>Love</td>\n",
       "    </tr>\n",
       "    <tr>\n",
       "      <th>4</th>\n",
       "      <td>heart</td>\n",
       "      <td>soul</td>\n",
       "      <td>NaN</td>\n",
       "    </tr>\n",
       "  </tbody>\n",
       "</table>\n",
       "</div>"
      ],
      "text/plain": [
       "                      名前はなんですか                 私の名前は 夢を諦めて死んでください\n",
       "0                don't give up  child of the weather      Sparrow\n",
       "1  i want to eat your pancreas                lonely          sad\n",
       "2                        water              Mountain    beautiful\n",
       "3                      Goddess                dreams         Love\n",
       "4                        heart                  soul          NaN"
      ]
     },
     "execution_count": 43,
     "metadata": {},
     "output_type": "execute_result"
    }
   ],
   "source": [
    "saved_df = pd.read_excel(\"test2.xlsx\", skiprows=0)\n",
    "saved_df.head()"
   ]
  }
 ],
 "metadata": {
  "kernelspec": {
   "display_name": "Python 3 (ipykernel)",
   "language": "python",
   "name": "python3"
  },
  "language_info": {
   "codemirror_mode": {
    "name": "ipython",
    "version": 3
   },
   "file_extension": ".py",
   "mimetype": "text/x-python",
   "name": "python",
   "nbconvert_exporter": "python",
   "pygments_lexer": "ipython3",
   "version": "3.11.4"
  }
 },
 "nbformat": 4,
 "nbformat_minor": 5
}
