{
 "cells": [
  {
   "cell_type": "code",
   "execution_count": 6,
   "id": "0265b614-e62c-4b51-ba3b-03604e9a371d",
   "metadata": {},
   "outputs": [],
   "source": [
    "from googletrans import Translator, constants\n",
    "from mirai_translate import Client\n",
    "from pprint import pprint\n",
    "import pandas as pd\n",
    "import msoffcrypto\n",
    "import pathlib\n",
    "import io\n",
    "import os"
   ]
  },
  {
   "cell_type": "code",
   "execution_count": 38,
   "id": "f3d0b01e-cb92-4d98-b931-1868cc93cf8b",
   "metadata": {},
   "outputs": [],
   "source": [
    "passwd = \"a\"\n",
    "Ifile = \"../jap_test2.xlsx\""
   ]
  },
  {
   "cell_type": "code",
   "execution_count": 39,
   "id": "8780a8d4-eb7f-4bc9-b905-5f861ba979e3",
   "metadata": {},
   "outputs": [],
   "source": [
    "_2ja = Translator() \n",
    "_2ja_mirai = Client()"
   ]
  },
  {
   "cell_type": "code",
   "execution_count": 40,
   "id": "ab156831-4bc1-4f5a-802e-f77f820651f6",
   "metadata": {},
   "outputs": [],
   "source": [
    "temp = io.BytesIO()\n",
    "def unlock(filename, passwd):\n",
    "    temp = open(filename, 'rb')\n",
    "    excel = msoffcrypto.OfficeFile(temp)\n",
    "    excel.load_key(passwd)\n",
    "\n",
    "    with open(\"out.xlsx\", 'wb') as f:\n",
    "        excel.decrypt(f)\n",
    "    temp.close()"
   ]
  },
  {
   "cell_type": "code",
   "execution_count": 41,
   "id": "ce436b80-7795-40e2-b22e-39ee2f8d05c9",
   "metadata": {},
   "outputs": [],
   "source": [
    "unlock(Ifile, passwd)"
   ]
  },
  {
   "cell_type": "code",
   "execution_count": 42,
   "id": "b035c652-06ee-4c16-a442-f396abe2294e",
   "metadata": {},
   "outputs": [],
   "source": [
    "df = pd.ExcelFile('out.xlsx')\n",
    "sheet_names = df.sheet_names\n",
    "count = 0"
   ]
  },
  {
   "cell_type": "code",
   "execution_count": 43,
   "id": "de0f6039-e250-47bb-b0a2-91314514102e",
   "metadata": {},
   "outputs": [
    {
     "name": "stdout",
     "output_type": "stream",
     "text": [
      "['Sheet1']\n"
     ]
    }
   ],
   "source": [
    "print(sheet_names)"
   ]
  },
  {
   "cell_type": "code",
   "execution_count": 48,
   "id": "90c7e86d-34b1-4109-b370-750562170386",
   "metadata": {},
   "outputs": [],
   "source": [
    "def trans(df1,sheetname):\n",
    "    \n",
    "   # print(f\"translating{sheetname}\")\n",
    "    for col in df1.columns:\n",
    "        #print(col)\n",
    "        for val in df1[col]:\n",
    "            print(val)\n",
    "            tmp = _2ja.translate(val)\n",
    "            df1[col] = tmp.text\n",
    "            print(df1[col])\n",
    "            break\n",
    "            #print(tmp.text)\n",
    "            #print(df1[col])\n",
    "        "
   ]
  },
  {
   "cell_type": "code",
   "execution_count": 49,
   "id": "67876389-b697-4c58-8839-7c84cdd562d7",
   "metadata": {},
   "outputs": [
    {
     "name": "stdout",
     "output_type": "stream",
     "text": [
      "あきらめてはいけない\n",
      "0    don't give up\n",
      "1    don't give up\n",
      "2    don't give up\n",
      "3    don't give up\n",
      "4    don't give up\n",
      "Name: 名前はなんですか, dtype: object\n",
      "天気の子\n",
      "0    child of the weather\n",
      "1    child of the weather\n",
      "2    child of the weather\n",
      "3    child of the weather\n",
      "4    child of the weather\n",
      "Name: 私の名前は, dtype: object\n",
      "すずめ\n",
      "0    Sparrow\n",
      "1    Sparrow\n",
      "2    Sparrow\n",
      "3    Sparrow\n",
      "4    Sparrow\n",
      "Name: 夢を諦めて死んでください, dtype: object\n"
     ]
    }
   ],
   "source": [
    "writer = pd.ExcelWriter(\"filename.xlsx\")\n",
    "for i in sheet_names:\n",
    "    sheetname = i\n",
    "    e_df = pd.read_excel('out.xlsx',sheetname)\n",
    "    trans(e_df,sheetname)\n",
    "    e_df.to_excel(writer, sheet_name=sheetname)\n",
    "writer.close()"
   ]
  },
  {
   "cell_type": "code",
   "execution_count": 18,
   "id": "28595e5b-c6c1-438e-b1b8-686b209aa084",
   "metadata": {},
   "outputs": [],
   "source": [
    "os.remove(\"out.xlsx\")"
   ]
  },
  {
   "cell_type": "code",
   "execution_count": 51,
   "id": "eba24c03-c0da-466c-b7f9-76de86b1daff",
   "metadata": {},
   "outputs": [
    {
     "name": "stdout",
     "output_type": "stream",
     "text": [
      "Successfully translated and saved the Excel file!\n"
     ]
    }
   ],
   "source": [
    "import pandas as pd\n",
    "from googletrans import Translator\n",
    "\n",
    "def read_excel_file(file_path):\n",
    "    try:\n",
    "        # Read the Excel file\n",
    "        df = pd.read_excel(file_path)\n",
    "        return df\n",
    "    except FileNotFoundError:\n",
    "        print(\"Error: File not found.\")\n",
    "        return None\n",
    "    except Exception as e:\n",
    "        print(f\"Error: {e}\")\n",
    "        return None\n",
    "\n",
    "def translate_to_japanese(text):\n",
    "    translator = Translator()\n",
    "    translated_text = translator.translate(text, src='auto', dest='en')\n",
    "    return translated_text.text\n",
    "\n",
    "if __name__ == \"__main__\":\n",
    "    file_path = \"../jap_test2.xlsx\"\n",
    "\n",
    "    # Call the function to read the Excel file\n",
    "    data_frame = read_excel_file(file_path)\n",
    "\n",
    "    if data_frame is not None:\n",
    "        # Translate each value in the DataFrame to Japanese\n",
    "        translated_df = data_frame.applymap(translate_to_japanese)\n",
    "\n",
    "        # Save the translated DataFrame to a new Excel file\n",
    "        output_file_path = \"translated_excel_file.xlsx\"\n",
    "        translated_df.to_excel(output_file_path, index=False)\n",
    "\n",
    "        print(\"Successfully translated and saved the Excel file!\")\n",
    "    else:\n",
    "        print(\"Failed to read the Excel file.\")"
   ]
  },
  {
   "cell_type": "code",
   "execution_count": null,
   "id": "beef6969-3920-421c-a6ae-ad9090ddbb01",
   "metadata": {},
   "outputs": [],
   "source": []
  }
 ],
 "metadata": {
  "kernelspec": {
   "display_name": "Python 3 (ipykernel)",
   "language": "python",
   "name": "python3"
  },
  "language_info": {
   "codemirror_mode": {
    "name": "ipython",
    "version": 3
   },
   "file_extension": ".py",
   "mimetype": "text/x-python",
   "name": "python",
   "nbconvert_exporter": "python",
   "pygments_lexer": "ipython3",
   "version": "3.11.4"
  }
 },
 "nbformat": 4,
 "nbformat_minor": 5
}
