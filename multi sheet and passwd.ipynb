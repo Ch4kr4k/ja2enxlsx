{
 "cells": [
  {
   "cell_type": "code",
   "execution_count": 29,
   "id": "0265b614-e62c-4b51-ba3b-03604e9a371d",
   "metadata": {},
   "outputs": [],
   "source": [
    "from googletrans import Translator, constants\n",
    "from mirai_translate import Client\n",
    "from pprint import pprint\n",
    "import pandas as pd\n",
    "import msoffcrypto\n",
    "import pathlib\n",
    "import io"
   ]
  },
  {
   "cell_type": "code",
   "execution_count": 2,
   "id": "f3d0b01e-cb92-4d98-b931-1868cc93cf8b",
   "metadata": {},
   "outputs": [],
   "source": [
    "passwd = \"a\"\n",
    "Ifile = \"t1.xlsx\"\n",
    "dp =\"C:\\\\Users\\\\SI0896\\\\Downloads\\\\test\\\\proj\\\\py\\\\out.xlsx\""
   ]
  },
  {
   "cell_type": "code",
   "execution_count": 30,
   "id": "8780a8d4-eb7f-4bc9-b905-5f861ba979e3",
   "metadata": {},
   "outputs": [],
   "source": [
    "_2ja = Translator() \n",
    "_2ja_mirai = Client()"
   ]
  },
  {
   "cell_type": "code",
   "execution_count": 4,
   "id": "ab156831-4bc1-4f5a-802e-f77f820651f6",
   "metadata": {},
   "outputs": [],
   "source": [
    "temp = io.BytesIO()\n",
    "def unlock(filename, passwd):\n",
    "    temp = open(filename, 'rb')\n",
    "    excel = msoffcrypto.OfficeFile(temp)\n",
    "    excel.load_key(passwd)\n",
    "\n",
    "    with open(\"out.xlsx\", 'wb') as f:\n",
    "        excel.decrypt(f)\n",
    "    temp.close()"
   ]
  },
  {
   "cell_type": "code",
   "execution_count": 5,
   "id": "ce436b80-7795-40e2-b22e-39ee2f8d05c9",
   "metadata": {},
   "outputs": [],
   "source": [
    "unlock(Ifile, passwd)"
   ]
  },
  {
   "cell_type": "code",
   "execution_count": 15,
   "id": "b035c652-06ee-4c16-a442-f396abe2294e",
   "metadata": {},
   "outputs": [],
   "source": [
    "df = pd.ExcelFile('out.xlsx')\n",
    "sheet_names = df.sheet_names"
   ]
  },
  {
   "cell_type": "code",
   "execution_count": 26,
   "id": "67876389-b697-4c58-8839-7c84cdd562d7",
   "metadata": {},
   "outputs": [
    {
     "name": "stdout",
     "output_type": "stream",
     "text": [
      "Sheet1\n",
      "Sheet2\n",
      "Sheet3\n"
     ]
    }
   ],
   "source": [
    "for i in sheet_names:\n",
    "    print(i)"
   ]
  },
  {
   "cell_type": "code",
   "execution_count": 7,
   "id": "26d1f431-8507-4066-b2a2-c0a05b6202e9",
   "metadata": {},
   "outputs": [
    {
     "data": {
      "text/html": [
       "<div>\n",
       "<style scoped>\n",
       "    .dataframe tbody tr th:only-of-type {\n",
       "        vertical-align: middle;\n",
       "    }\n",
       "\n",
       "    .dataframe tbody tr th {\n",
       "        vertical-align: top;\n",
       "    }\n",
       "\n",
       "    .dataframe thead th {\n",
       "        text-align: right;\n",
       "    }\n",
       "</style>\n",
       "<table border=\"1\" class=\"dataframe\">\n",
       "  <thead>\n",
       "    <tr style=\"text-align: right;\">\n",
       "      <th></th>\n",
       "      <th>ゆうきやきぼうやきづなとかのま</th>\n",
       "      <th>Unnamed: 1</th>\n",
       "      <th>Unnamed: 2</th>\n",
       "      <th>Unnamed: 3</th>\n",
       "      <th>Unnamed: 4</th>\n",
       "      <th>Unnamed: 5</th>\n",
       "      <th>Unnamed: 6</th>\n",
       "      <th>Unnamed: 7</th>\n",
       "      <th>ゆうきやきぼうやきづなとかのま.1</th>\n",
       "    </tr>\n",
       "  </thead>\n",
       "  <tbody>\n",
       "    <tr>\n",
       "      <th>0</th>\n",
       "      <td>ほうつかみちもくおとなはんとんどむける</td>\n",
       "      <td>NaN</td>\n",
       "      <td>NaN</td>\n",
       "      <td>NaN</td>\n",
       "      <td>NaN</td>\n",
       "      <td>NaN</td>\n",
       "      <td>NaN</td>\n",
       "      <td>NaN</td>\n",
       "      <td>ほうつかみちもくおとなはんとんどむける</td>\n",
       "    </tr>\n",
       "    <tr>\n",
       "      <th>1</th>\n",
       "      <td>NaN</td>\n",
       "      <td>NaN</td>\n",
       "      <td>NaN</td>\n",
       "      <td>NaN</td>\n",
       "      <td>NaN</td>\n",
       "      <td>NaN</td>\n",
       "      <td>NaN</td>\n",
       "      <td>NaN</td>\n",
       "      <td>NaN</td>\n",
       "    </tr>\n",
       "    <tr>\n",
       "      <th>2</th>\n",
       "      <td>NaN</td>\n",
       "      <td>NaN</td>\n",
       "      <td>NaN</td>\n",
       "      <td>NaN</td>\n",
       "      <td>NaN</td>\n",
       "      <td>NaN</td>\n",
       "      <td>NaN</td>\n",
       "      <td>NaN</td>\n",
       "      <td>NaN</td>\n",
       "    </tr>\n",
       "    <tr>\n",
       "      <th>3</th>\n",
       "      <td>ソレデモアノヒノキミガイマモマダ</td>\n",
       "      <td>NaN</td>\n",
       "      <td>NaN</td>\n",
       "      <td>NaN</td>\n",
       "      <td>NaN</td>\n",
       "      <td>NaN</td>\n",
       "      <td>NaN</td>\n",
       "      <td>NaN</td>\n",
       "      <td>ソレデモアノヒノキミガイマモマダ</td>\n",
       "    </tr>\n",
       "    <tr>\n",
       "      <th>4</th>\n",
       "      <td>ボクの禅セイギノドマンナカにイル</td>\n",
       "      <td>NaN</td>\n",
       "      <td>NaN</td>\n",
       "      <td>NaN</td>\n",
       "      <td>NaN</td>\n",
       "      <td>NaN</td>\n",
       "      <td>NaN</td>\n",
       "      <td>NaN</td>\n",
       "      <td>ボクの禅セイギノドマンナカにイル</td>\n",
       "    </tr>\n",
       "  </tbody>\n",
       "</table>\n",
       "</div>"
      ],
      "text/plain": [
       "       ゆうきやきぼうやきづなとかのま  Unnamed: 1  Unnamed: 2  Unnamed: 3  Unnamed: 4  \\\n",
       "0  ほうつかみちもくおとなはんとんどむける         NaN         NaN         NaN         NaN   \n",
       "1                  NaN         NaN         NaN         NaN         NaN   \n",
       "2                  NaN         NaN         NaN         NaN         NaN   \n",
       "3     ソレデモアノヒノキミガイマモマダ         NaN         NaN         NaN         NaN   \n",
       "4     ボクの禅セイギノドマンナカにイル         NaN         NaN         NaN         NaN   \n",
       "\n",
       "   Unnamed: 5  Unnamed: 6  Unnamed: 7    ゆうきやきぼうやきづなとかのま.1  \n",
       "0         NaN         NaN         NaN  ほうつかみちもくおとなはんとんどむける  \n",
       "1         NaN         NaN         NaN                  NaN  \n",
       "2         NaN         NaN         NaN                  NaN  \n",
       "3         NaN         NaN         NaN     ソレデモアノヒノキミガイマモマダ  \n",
       "4         NaN         NaN         NaN     ボクの禅セイギノドマンナカにイル  "
      ]
     },
     "execution_count": 7,
     "metadata": {},
     "output_type": "execute_result"
    }
   ],
   "source": [
    "df2.head()"
   ]
  },
  {
   "cell_type": "code",
   "execution_count": 108,
   "id": "b4dee577-eb5c-4bc9-89dc-cacf35450641",
   "metadata": {},
   "outputs": [],
   "source": [
    "rows =len(df.index) - 1\n",
    "cols = len(df.index) - 1"
   ]
  },
  {
   "cell_type": "code",
   "execution_count": 8,
   "id": "983ac626-f1a6-45a6-a729-271ffd1cc314",
   "metadata": {},
   "outputs": [
    {
     "data": {
      "text/html": [
       "<div>\n",
       "<style scoped>\n",
       "    .dataframe tbody tr th:only-of-type {\n",
       "        vertical-align: middle;\n",
       "    }\n",
       "\n",
       "    .dataframe tbody tr th {\n",
       "        vertical-align: top;\n",
       "    }\n",
       "\n",
       "    .dataframe thead th {\n",
       "        text-align: right;\n",
       "    }\n",
       "</style>\n",
       "<table border=\"1\" class=\"dataframe\">\n",
       "  <thead>\n",
       "    <tr style=\"text-align: right;\">\n",
       "      <th></th>\n",
       "      <th>ゆうきやきぼうやきづなとかのま</th>\n",
       "      <th>Unnamed: 1</th>\n",
       "      <th>Unnamed: 2</th>\n",
       "      <th>Unnamed: 3</th>\n",
       "      <th>Unnamed: 4</th>\n",
       "      <th>Unnamed: 5</th>\n",
       "      <th>Unnamed: 6</th>\n",
       "      <th>Unnamed: 7</th>\n",
       "      <th>Unnamed: 8</th>\n",
       "    </tr>\n",
       "  </thead>\n",
       "  <tbody>\n",
       "    <tr>\n",
       "      <th>0</th>\n",
       "      <td>Translated(src=ht, dest=en, text=in, pronuncia...</td>\n",
       "      <td>Translated(src=ht, dest=en, text=in, pronuncia...</td>\n",
       "      <td>Translated(src=ht, dest=en, text=in, pronuncia...</td>\n",
       "      <td>Translated(src=ht, dest=en, text=in, pronuncia...</td>\n",
       "      <td>Translated(src=ht, dest=en, text=in, pronuncia...</td>\n",
       "      <td>Translated(src=ht, dest=en, text=in, pronuncia...</td>\n",
       "      <td>Translated(src=ht, dest=en, text=in, pronuncia...</td>\n",
       "      <td>Translated(src=ht, dest=en, text=in, pronuncia...</td>\n",
       "      <td>Translated(src=ja, dest=en, text=Dekirukoto an...</td>\n",
       "    </tr>\n",
       "    <tr>\n",
       "      <th>1</th>\n",
       "      <td>Translated(src=ht, dest=en, text=in, pronuncia...</td>\n",
       "      <td>Translated(src=ht, dest=en, text=in, pronuncia...</td>\n",
       "      <td>Translated(src=ht, dest=en, text=in, pronuncia...</td>\n",
       "      <td>Translated(src=ht, dest=en, text=in, pronuncia...</td>\n",
       "      <td>Translated(src=ht, dest=en, text=in, pronuncia...</td>\n",
       "      <td>Translated(src=ht, dest=en, text=in, pronuncia...</td>\n",
       "      <td>Translated(src=ht, dest=en, text=in, pronuncia...</td>\n",
       "      <td>Translated(src=ht, dest=en, text=in, pronuncia...</td>\n",
       "      <td>Translated(src=ja, dest=en, text=Dekirukoto an...</td>\n",
       "    </tr>\n",
       "    <tr>\n",
       "      <th>2</th>\n",
       "      <td>Translated(src=ht, dest=en, text=in, pronuncia...</td>\n",
       "      <td>Translated(src=ht, dest=en, text=in, pronuncia...</td>\n",
       "      <td>Translated(src=ht, dest=en, text=in, pronuncia...</td>\n",
       "      <td>Translated(src=ht, dest=en, text=in, pronuncia...</td>\n",
       "      <td>Translated(src=ht, dest=en, text=in, pronuncia...</td>\n",
       "      <td>Translated(src=ht, dest=en, text=in, pronuncia...</td>\n",
       "      <td>Translated(src=ht, dest=en, text=in, pronuncia...</td>\n",
       "      <td>Translated(src=ht, dest=en, text=in, pronuncia...</td>\n",
       "      <td>Translated(src=ja, dest=en, text=Dekirukoto an...</td>\n",
       "    </tr>\n",
       "    <tr>\n",
       "      <th>3</th>\n",
       "      <td>Translated(src=ht, dest=en, text=in, pronuncia...</td>\n",
       "      <td>Translated(src=ht, dest=en, text=in, pronuncia...</td>\n",
       "      <td>Translated(src=ht, dest=en, text=in, pronuncia...</td>\n",
       "      <td>Translated(src=ht, dest=en, text=in, pronuncia...</td>\n",
       "      <td>Translated(src=ht, dest=en, text=in, pronuncia...</td>\n",
       "      <td>Translated(src=ht, dest=en, text=in, pronuncia...</td>\n",
       "      <td>Translated(src=ht, dest=en, text=in, pronuncia...</td>\n",
       "      <td>Translated(src=ht, dest=en, text=in, pronuncia...</td>\n",
       "      <td>Translated(src=ja, dest=en, text=Dekirukoto an...</td>\n",
       "    </tr>\n",
       "    <tr>\n",
       "      <th>4</th>\n",
       "      <td>Translated(src=ht, dest=en, text=in, pronuncia...</td>\n",
       "      <td>Translated(src=ht, dest=en, text=in, pronuncia...</td>\n",
       "      <td>Translated(src=ht, dest=en, text=in, pronuncia...</td>\n",
       "      <td>Translated(src=ht, dest=en, text=in, pronuncia...</td>\n",
       "      <td>Translated(src=ht, dest=en, text=in, pronuncia...</td>\n",
       "      <td>Translated(src=ht, dest=en, text=in, pronuncia...</td>\n",
       "      <td>Translated(src=ht, dest=en, text=in, pronuncia...</td>\n",
       "      <td>Translated(src=ht, dest=en, text=in, pronuncia...</td>\n",
       "      <td>Translated(src=ja, dest=en, text=Dekirukoto an...</td>\n",
       "    </tr>\n",
       "  </tbody>\n",
       "</table>\n",
       "</div>"
      ],
      "text/plain": [
       "                                     ゆうきやきぼうやきづなとかのま  \\\n",
       "0  Translated(src=ht, dest=en, text=in, pronuncia...   \n",
       "1  Translated(src=ht, dest=en, text=in, pronuncia...   \n",
       "2  Translated(src=ht, dest=en, text=in, pronuncia...   \n",
       "3  Translated(src=ht, dest=en, text=in, pronuncia...   \n",
       "4  Translated(src=ht, dest=en, text=in, pronuncia...   \n",
       "\n",
       "                                          Unnamed: 1  \\\n",
       "0  Translated(src=ht, dest=en, text=in, pronuncia...   \n",
       "1  Translated(src=ht, dest=en, text=in, pronuncia...   \n",
       "2  Translated(src=ht, dest=en, text=in, pronuncia...   \n",
       "3  Translated(src=ht, dest=en, text=in, pronuncia...   \n",
       "4  Translated(src=ht, dest=en, text=in, pronuncia...   \n",
       "\n",
       "                                          Unnamed: 2  \\\n",
       "0  Translated(src=ht, dest=en, text=in, pronuncia...   \n",
       "1  Translated(src=ht, dest=en, text=in, pronuncia...   \n",
       "2  Translated(src=ht, dest=en, text=in, pronuncia...   \n",
       "3  Translated(src=ht, dest=en, text=in, pronuncia...   \n",
       "4  Translated(src=ht, dest=en, text=in, pronuncia...   \n",
       "\n",
       "                                          Unnamed: 3  \\\n",
       "0  Translated(src=ht, dest=en, text=in, pronuncia...   \n",
       "1  Translated(src=ht, dest=en, text=in, pronuncia...   \n",
       "2  Translated(src=ht, dest=en, text=in, pronuncia...   \n",
       "3  Translated(src=ht, dest=en, text=in, pronuncia...   \n",
       "4  Translated(src=ht, dest=en, text=in, pronuncia...   \n",
       "\n",
       "                                          Unnamed: 4  \\\n",
       "0  Translated(src=ht, dest=en, text=in, pronuncia...   \n",
       "1  Translated(src=ht, dest=en, text=in, pronuncia...   \n",
       "2  Translated(src=ht, dest=en, text=in, pronuncia...   \n",
       "3  Translated(src=ht, dest=en, text=in, pronuncia...   \n",
       "4  Translated(src=ht, dest=en, text=in, pronuncia...   \n",
       "\n",
       "                                          Unnamed: 5  \\\n",
       "0  Translated(src=ht, dest=en, text=in, pronuncia...   \n",
       "1  Translated(src=ht, dest=en, text=in, pronuncia...   \n",
       "2  Translated(src=ht, dest=en, text=in, pronuncia...   \n",
       "3  Translated(src=ht, dest=en, text=in, pronuncia...   \n",
       "4  Translated(src=ht, dest=en, text=in, pronuncia...   \n",
       "\n",
       "                                          Unnamed: 6  \\\n",
       "0  Translated(src=ht, dest=en, text=in, pronuncia...   \n",
       "1  Translated(src=ht, dest=en, text=in, pronuncia...   \n",
       "2  Translated(src=ht, dest=en, text=in, pronuncia...   \n",
       "3  Translated(src=ht, dest=en, text=in, pronuncia...   \n",
       "4  Translated(src=ht, dest=en, text=in, pronuncia...   \n",
       "\n",
       "                                          Unnamed: 7  \\\n",
       "0  Translated(src=ht, dest=en, text=in, pronuncia...   \n",
       "1  Translated(src=ht, dest=en, text=in, pronuncia...   \n",
       "2  Translated(src=ht, dest=en, text=in, pronuncia...   \n",
       "3  Translated(src=ht, dest=en, text=in, pronuncia...   \n",
       "4  Translated(src=ht, dest=en, text=in, pronuncia...   \n",
       "\n",
       "                                          Unnamed: 8  \n",
       "0  Translated(src=ja, dest=en, text=Dekirukoto an...  \n",
       "1  Translated(src=ja, dest=en, text=Dekirukoto an...  \n",
       "2  Translated(src=ja, dest=en, text=Dekirukoto an...  \n",
       "3  Translated(src=ja, dest=en, text=Dekirukoto an...  \n",
       "4  Translated(src=ja, dest=en, text=Dekirukoto an...  "
      ]
     },
     "execution_count": 8,
     "metadata": {},
     "output_type": "execute_result"
    }
   ],
   "source": [
    "for col in df1.columns:\n",
    "    for val in df1[col]:\n",
    "        tmp = _2ja.translate(val)\n",
    "        df1[col]=tmp.text\n",
    "df1.head()"
   ]
  },
  {
   "cell_type": "code",
   "execution_count": 123,
   "id": "94ca3286-32fb-443c-a805-4baa757dbe8e",
   "metadata": {},
   "outputs": [],
   "source": [
    "df1.to_excel(\"out1.xlsx\", index=False)"
   ]
  },
  {
   "cell_type": "code",
   "execution_count": 27,
   "id": "4bfc1c6e-e770-4eb9-aaa1-8ec6c8222007",
   "metadata": {},
   "outputs": [
    {
     "ename": "AttributeError",
     "evalue": "'str' object has no attribute 'to_excel'",
     "output_type": "error",
     "traceback": [
      "\u001b[1;31m---------------------------------------------------------------------------\u001b[0m",
      "\u001b[1;31mAttributeError\u001b[0m                            Traceback (most recent call last)",
      "Cell \u001b[1;32mIn[27], line 4\u001b[0m\n\u001b[0;32m      2\u001b[0m frames \u001b[38;5;241m=\u001b[39m {\u001b[38;5;124m'\u001b[39m\u001b[38;5;124msheetName_1\u001b[39m\u001b[38;5;124m'\u001b[39m: \u001b[38;5;124m'\u001b[39m\u001b[38;5;124msheet1\u001b[39m\u001b[38;5;124m'\u001b[39m, \u001b[38;5;124m'\u001b[39m\u001b[38;5;124msheetName_2\u001b[39m\u001b[38;5;124m'\u001b[39m: \u001b[38;5;124m'\u001b[39m\u001b[38;5;124msheet2\u001b[39m\u001b[38;5;124m'\u001b[39m,}\n\u001b[0;32m      3\u001b[0m \u001b[38;5;28;01mfor\u001b[39;00m sheet, frame \u001b[38;5;129;01min\u001b[39;00m  frames\u001b[38;5;241m.\u001b[39mitems():\n\u001b[1;32m----> 4\u001b[0m     \u001b[43mframe\u001b[49m\u001b[38;5;241;43m.\u001b[39;49m\u001b[43mto_excel\u001b[49m(writer, sheet_name \u001b[38;5;241m=\u001b[39m sheet)\n\u001b[0;32m      5\u001b[0m writer\u001b[38;5;241m.\u001b[39mclose()\n",
      "\u001b[1;31mAttributeError\u001b[0m: 'str' object has no attribute 'to_excel'"
     ]
    }
   ],
   "source": [
    "writer = pd.ExcelWriter('MyFile.xlsx')\n",
    "frames = {'sheetName_1': 'sheet1', 'sheetName_2': 'sheet2',}\n",
    "for sheet, frame in  frames.items():\n",
    "    frame.to_excel(writer, sheet_name = sheet)\n",
    "writer.close()"
   ]
  },
  {
   "cell_type": "code",
   "execution_count": 24,
   "id": "118f97ee-feae-4b18-abe1-c75a9fd2822a",
   "metadata": {},
   "outputs": [
    {
     "ename": "SyntaxError",
     "evalue": "cannot assign to f-string expression here. Maybe you meant '==' instead of '='? (4257718706.py, line 2)",
     "output_type": "error",
     "traceback": [
      "\u001b[1;36m  Cell \u001b[1;32mIn[24], line 2\u001b[1;36m\u001b[0m\n\u001b[1;33m    f\"test{i}\" = 0\u001b[0m\n\u001b[1;37m    ^\u001b[0m\n\u001b[1;31mSyntaxError\u001b[0m\u001b[1;31m:\u001b[0m cannot assign to f-string expression here. Maybe you meant '==' instead of '='?\n"
     ]
    }
   ],
   "source": []
  },
  {
   "cell_type": "code",
   "execution_count": null,
   "id": "85a4d602-fece-463a-91c3-a940dfacd302",
   "metadata": {},
   "outputs": [],
   "source": []
  }
 ],
 "metadata": {
  "kernelspec": {
   "display_name": "Python 3 (ipykernel)",
   "language": "python",
   "name": "python3"
  },
  "language_info": {
   "codemirror_mode": {
    "name": "ipython",
    "version": 3
   },
   "file_extension": ".py",
   "mimetype": "text/x-python",
   "name": "python",
   "nbconvert_exporter": "python",
   "pygments_lexer": "ipython3",
   "version": "3.11.4"
  }
 },
 "nbformat": 4,
 "nbformat_minor": 5
}
