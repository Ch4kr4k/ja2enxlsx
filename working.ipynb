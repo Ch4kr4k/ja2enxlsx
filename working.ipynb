{
 "cells": [
  {
   "cell_type": "code",
   "execution_count": 1,
   "id": "936613ff-dd6a-4b18-9917-32bd3052451a",
   "metadata": {},
   "outputs": [
    {
     "name": "stdout",
     "output_type": "stream",
     "text": [
      "D:\\Work_imp\\test_Book1.xlsx\n"
     ]
    }
   ],
   "source": [
    "# Import modules\n",
    "import pandas as pd\n",
    "import win32com.client\n",
    "import os\n",
    "import getpass\n",
    "\n",
    "# Name file variables\n",
    "file_path = r'D:\\Work_imp'\n",
    "file_name = r'test_Book1.xlsx'\n",
    "\n",
    "full_name = os.path.join(file_path, file_name)\n",
    "print(full_name)"
   ]
  },
  {
   "cell_type": "code",
   "execution_count": 4,
   "id": "12cd428f-a4ab-4ca4-8845-4da98e18e27c",
   "metadata": {},
   "outputs": [
    {
     "name": "stdin",
     "output_type": "stream",
     "text": [
      "Enter file password:  ········\n"
     ]
    }
   ],
   "source": [
    "# You are prompted to provide the password to open the file\n",
    "xl_app = win32com.client.Dispatch('Excel.Application')\n",
    "pwd = getpass.getpass('Enter file password: ')"
   ]
  },
  {
   "cell_type": "code",
   "execution_count": 6,
   "id": "8abec476-4a8d-4725-860f-8a2efdf167ab",
   "metadata": {},
   "outputs": [],
   "source": [
    "xl_wb = xl_app.Workbooks.Open(full_name, False, True, None, pwd)\n",
    "xl_app.Visible = False\n",
    "xl_sh = xl_wb.Worksheets('sheet1')\n",
    "\n",
    "# Get last_row\n",
    "row_num = 0\n",
    "cell_val = ''\n",
    "while cell_val != None:\n",
    "    row_num += 1\n",
    "    cell_val = xl_sh.Cells(row_num, 1).Value\n",
    "    # print(row_num, '|', cell_val, type(cell_val))\n",
    "last_row = row_num - 1\n",
    "# print(last_row)\n",
    "\n",
    "# Get last_column\n",
    "col_num = 0\n",
    "cell_val = ''\n",
    "while cell_val != None:\n",
    "    col_num += 1\n",
    "    cell_val = xl_sh.Cells(1, col_num).Value\n",
    "    # print(col_num, '|', cell_val, type(cell_val))\n",
    "last_col = col_num - 1\n",
    "# print(last_col)"
   ]
  },
  {
   "cell_type": "code",
   "execution_count": 7,
   "id": "65b1f567-fc7c-4f89-9dc9-7117670768e3",
   "metadata": {},
   "outputs": [
    {
     "data": {
      "text/html": [
       "<div>\n",
       "<style scoped>\n",
       "    .dataframe tbody tr th:only-of-type {\n",
       "        vertical-align: middle;\n",
       "    }\n",
       "\n",
       "    .dataframe tbody tr th {\n",
       "        vertical-align: top;\n",
       "    }\n",
       "\n",
       "    .dataframe thead th {\n",
       "        text-align: right;\n",
       "    }\n",
       "</style>\n",
       "<table border=\"1\" class=\"dataframe\">\n",
       "  <thead>\n",
       "    <tr style=\"text-align: right;\">\n",
       "      <th></th>\n",
       "      <th>アクセス属性不明あり、判定不能。(割込み状態不明) \\tFG_xnf[t_u2SymID] = (FLG)0;</th>\n",
       "      <th>アクセス属性不明あり、判定不能。(割込み状態不明) \\tFG_xnf[t_u2SymID] = (FLG)0;</th>\n",
       "      <th>アクセス属性不明あり、判定不能。(割込み状態不明) \\tFG_xnf[t_u2SymID] = (FLG)0;</th>\n",
       "    </tr>\n",
       "  </thead>\n",
       "  <tbody>\n",
       "    <tr>\n",
       "      <th>0</th>\n",
       "      <td>アクセス属性不明あり、判定不能。(割込み状態不明) \\t\\t\\tFG_xnf[ t_u2_S...</td>\n",
       "      <td>アクセス属性不明あり、判定不能。(割込み状態不明) \\t\\t\\tFG_xnf[ t_u2_S...</td>\n",
       "      <td>アクセス属性不明あり、判定不能。(割込み状態不明) \\t\\t\\tFG_xnf[ t_u2_S...</td>\n",
       "    </tr>\n",
       "    <tr>\n",
       "      <th>1</th>\n",
       "      <td>アクセス属性不明あり、判定不能。(割込み状態不明) \\t\\t\\tFG_xnf[ t_u2_S...</td>\n",
       "      <td>アクセス属性不明あり、判定不能。(割込み状態不明) \\t\\t\\tFG_xnf[ t_u2_S...</td>\n",
       "      <td>アクセス属性不明あり、判定不能。(割込み状態不明) \\t\\t\\tFG_xnf[ t_u2_S...</td>\n",
       "    </tr>\n",
       "    <tr>\n",
       "      <th>2</th>\n",
       "      <td>アクセス属性不明あり、判定不能。(割込み状態不明) \\t\\t\\tFG_xnf[ t_u2_S...</td>\n",
       "      <td>アクセス属性不明あり、判定不能。(割込み状態不明) \\t\\t\\tFG_xnf[ t_u2_S...</td>\n",
       "      <td>アクセス属性不明あり、判定不能。(割込み状態不明) \\t\\t\\tFG_xnf[ t_u2_S...</td>\n",
       "    </tr>\n",
       "    <tr>\n",
       "      <th>3</th>\n",
       "      <td>アクセス属性不明あり、判定不能。(割込み状態不明) \\t\\t\\tFG_xnf[ t_u2_S...</td>\n",
       "      <td>アクセス属性不明あり、判定不能。(割込み状態不明) \\t\\t\\tFG_xnf[ t_u2_S...</td>\n",
       "      <td>アクセス属性不明あり、判定不能。(割込み状態不明) \\t\\t\\tFG_xnf[ t_u2_S...</td>\n",
       "    </tr>\n",
       "    <tr>\n",
       "      <th>4</th>\n",
       "      <td>\\t\\tDgsCmn_xoigf3nf = FG_xnf[SymID_IGF3];</td>\n",
       "      <td>\\t\\tDgsCmn_xovvtanf = FG_xnf[SymID_VVTA];</td>\n",
       "      <td>\\t\\tDgsCmn_xoigf4nf = FG_xnf[SymID_IGF4];</td>\n",
       "    </tr>\n",
       "  </tbody>\n",
       "</table>\n",
       "</div>"
      ],
      "text/plain": [
       "  アクセス属性不明あり、判定不能。(割込み状態不明) \\tFG_xnf[t_u2SymID] = (FLG)0;  \\\n",
       "0  アクセス属性不明あり、判定不能。(割込み状態不明) \\t\\t\\tFG_xnf[ t_u2_S...        \n",
       "1  アクセス属性不明あり、判定不能。(割込み状態不明) \\t\\t\\tFG_xnf[ t_u2_S...        \n",
       "2  アクセス属性不明あり、判定不能。(割込み状態不明) \\t\\t\\tFG_xnf[ t_u2_S...        \n",
       "3  アクセス属性不明あり、判定不能。(割込み状態不明) \\t\\t\\tFG_xnf[ t_u2_S...        \n",
       "4          \\t\\tDgsCmn_xoigf3nf = FG_xnf[SymID_IGF3];        \n",
       "\n",
       "  アクセス属性不明あり、判定不能。(割込み状態不明) \\tFG_xnf[t_u2SymID] = (FLG)0;  \\\n",
       "0  アクセス属性不明あり、判定不能。(割込み状態不明) \\t\\t\\tFG_xnf[ t_u2_S...        \n",
       "1  アクセス属性不明あり、判定不能。(割込み状態不明) \\t\\t\\tFG_xnf[ t_u2_S...        \n",
       "2  アクセス属性不明あり、判定不能。(割込み状態不明) \\t\\t\\tFG_xnf[ t_u2_S...        \n",
       "3  アクセス属性不明あり、判定不能。(割込み状態不明) \\t\\t\\tFG_xnf[ t_u2_S...        \n",
       "4          \\t\\tDgsCmn_xovvtanf = FG_xnf[SymID_VVTA];        \n",
       "\n",
       "  アクセス属性不明あり、判定不能。(割込み状態不明) \\tFG_xnf[t_u2SymID] = (FLG)0;  \n",
       "0  アクセス属性不明あり、判定不能。(割込み状態不明) \\t\\t\\tFG_xnf[ t_u2_S...       \n",
       "1  アクセス属性不明あり、判定不能。(割込み状態不明) \\t\\t\\tFG_xnf[ t_u2_S...       \n",
       "2  アクセス属性不明あり、判定不能。(割込み状態不明) \\t\\t\\tFG_xnf[ t_u2_S...       \n",
       "3  アクセス属性不明あり、判定不能。(割込み状態不明) \\t\\t\\tFG_xnf[ t_u2_S...       \n",
       "4          \\t\\tDgsCmn_xoigf4nf = FG_xnf[SymID_IGF4];       "
      ]
     },
     "execution_count": 7,
     "metadata": {},
     "output_type": "execute_result"
    }
   ],
   "source": [
    "content = xl_sh.Range(xl_sh.Cells(1, 1), xl_sh.Cells(last_row, last_col)).Value\n",
    "# list(content)\n",
    "df = pd.DataFrame(list(content[1:]), columns=content[0])\n",
    "df.head()"
   ]
  }
 ],
 "metadata": {
  "kernelspec": {
   "display_name": "Python 3 (ipykernel)",
   "language": "python",
   "name": "python3"
  },
  "language_info": {
   "codemirror_mode": {
    "name": "ipython",
    "version": 3
   },
   "file_extension": ".py",
   "mimetype": "text/x-python",
   "name": "python",
   "nbconvert_exporter": "python",
   "pygments_lexer": "ipython3",
   "version": "3.11.4"
  }
 },
 "nbformat": 4,
 "nbformat_minor": 5
}
