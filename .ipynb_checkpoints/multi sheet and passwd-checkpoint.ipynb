{
 "cells": [
  {
   "cell_type": "code",
   "execution_count": 35,
   "id": "0265b614-e62c-4b51-ba3b-03604e9a371d",
   "metadata": {},
   "outputs": [],
   "source": [
    "from googletrans import Translator, constants\n",
    "from mirai_translate import Client\n",
    "from pprint import pprint\n",
    "import pandas as pd\n",
    "import msoffcrypto\n",
    "import pathlib\n",
    "import io\n",
    "import os"
   ]
  },
  {
   "cell_type": "code",
   "execution_count": 31,
   "id": "f3d0b01e-cb92-4d98-b931-1868cc93cf8b",
   "metadata": {},
   "outputs": [],
   "source": [
    "passwd = \"a\"\n",
    "Ifile = \"jap_test2.xlsx\""
   ]
  },
  {
   "cell_type": "code",
   "execution_count": 21,
   "id": "8780a8d4-eb7f-4bc9-b905-5f861ba979e3",
   "metadata": {},
   "outputs": [],
   "source": [
    "_2ja = Translator() \n",
    "_2ja_mirai = Client()"
   ]
  },
  {
   "cell_type": "code",
   "execution_count": 22,
   "id": "ab156831-4bc1-4f5a-802e-f77f820651f6",
   "metadata": {},
   "outputs": [],
   "source": [
    "temp = io.BytesIO()\n",
    "def unlock(filename, passwd):\n",
    "    temp = open(filename, 'rb')\n",
    "    excel = msoffcrypto.OfficeFile(temp)\n",
    "    excel.load_key(passwd)\n",
    "\n",
    "    with open(\"out.xlsx\", 'wb') as f:\n",
    "        excel.decrypt(f)\n",
    "    temp.close()"
   ]
  },
  {
   "cell_type": "code",
   "execution_count": 23,
   "id": "ce436b80-7795-40e2-b22e-39ee2f8d05c9",
   "metadata": {},
   "outputs": [],
   "source": [
    "unlock(Ifile, passwd)"
   ]
  },
  {
   "cell_type": "code",
   "execution_count": 27,
   "id": "b035c652-06ee-4c16-a442-f396abe2294e",
   "metadata": {},
   "outputs": [],
   "source": [
    "df = pd.ExcelFile('out.xlsx')\n",
    "sheet_names = df.sheet_names\n",
    "count = 0"
   ]
  },
  {
   "cell_type": "code",
   "execution_count": 29,
   "id": "90c7e86d-34b1-4109-b370-750562170386",
   "metadata": {},
   "outputs": [],
   "source": [
    "def trans(df1,sheetname):\n",
    "    \n",
    "    print(f\"translating{sheetname}\")\n",
    "    for col in df1.columns:\n",
    "        for val in df1[col]:\n",
    "            tmp = _2ja.translate(val)\n",
    "            df1[col]=tmp.text\n",
    "        "
   ]
  },
  {
   "cell_type": "code",
   "execution_count": 33,
   "id": "67876389-b697-4c58-8839-7c84cdd562d7",
   "metadata": {},
   "outputs": [
    {
     "name": "stdout",
     "output_type": "stream",
     "text": [
      "translatingSheet1\n",
      "translatingSheet2\n",
      "translatingSheet3\n"
     ]
    }
   ],
   "source": [
    "writer = pd.ExcelWriter(\"filename.xlsx\")\n",
    "for i in sheet_names:\n",
    "    sheetname = i\n",
    "    e_df = pd.read_excel('out.xlsx',sheetname)\n",
    "    trans(e_df,sheetname)\n",
    "    e_df.to_excel(writer, sheet_name=sheetname)\n",
    "writer.close()"
   ]
  },
  {
   "cell_type": "code",
   "execution_count": 36,
   "id": "28595e5b-c6c1-438e-b1b8-686b209aa084",
   "metadata": {},
   "outputs": [],
   "source": [
    "os.remove(\"out.xlsx\")"
   ]
  }
 ],
 "metadata": {
  "kernelspec": {
   "display_name": "Python 3 (ipykernel)",
   "language": "python",
   "name": "python3"
  },
  "language_info": {
   "codemirror_mode": {
    "name": "ipython",
    "version": 3
   },
   "file_extension": ".py",
   "mimetype": "text/x-python",
   "name": "python",
   "nbconvert_exporter": "python",
   "pygments_lexer": "ipython3",
   "version": "3.11.4"
  }
 },
 "nbformat": 4,
 "nbformat_minor": 5
}
